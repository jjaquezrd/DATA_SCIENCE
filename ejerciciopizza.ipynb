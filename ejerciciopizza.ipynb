{
  "nbformat": 4,
  "nbformat_minor": 0,
  "metadata": {
    "colab": {
      "provenance": [],
      "authorship_tag": "ABX9TyMfeUsIGhc8gBxFFSELeKLb",
      "include_colab_link": true
    },
    "kernelspec": {
      "name": "python3",
      "display_name": "Python 3"
    },
    "language_info": {
      "name": "python"
    }
  },
  "cells": [
    {
      "cell_type": "markdown",
      "metadata": {
        "id": "view-in-github",
        "colab_type": "text"
      },
      "source": [
        "<a href=\"https://colab.research.google.com/github/jjaquezrd/DATA_SCIENCE/blob/main/ejerciciopizza.ipynb\" target=\"_parent\"><img src=\"https://colab.research.google.com/assets/colab-badge.svg\" alt=\"Open In Colab\"/></a>"
      ]
    },
    {
      "cell_type": "markdown",
      "source": [
        "##Pizzeria"
      ],
      "metadata": {
        "id": "MWvsl3XAhm8T"
      }
    },
    {
      "cell_type": "code",
      "source": [
        "import sys as s"
      ],
      "metadata": {
        "id": "1MwsZBeFhqOM"
      },
      "execution_count": 14,
      "outputs": []
    },
    {
      "cell_type": "code",
      "source": [
        "import string as st"
      ],
      "metadata": {
        "id": "LIi1z0Kxv8fj"
      },
      "execution_count": 15,
      "outputs": []
    },
    {
      "cell_type": "code",
      "source": [
        "import pandas as pd"
      ],
      "metadata": {
        "id": "rZWwiW0p8E37"
      },
      "execution_count": 16,
      "outputs": []
    },
    {
      "cell_type": "code",
      "execution_count": null,
      "metadata": {
        "id": "7DDQ08VYgkC0"
      },
      "outputs": [],
      "source": [
        "Op1=[\"Pimiento\",\"Tofu\", \"Hongo\", \"Rucula\", \"mozarella\", \"Tomate\"]\n",
        "P1 =[5.00,8.00,7.00,12.00,0.00,0.00]\n",
        "Op2=[\"Peperoni\",\"Jamon\",\"Salmon\",\"Pollo\",\"Mexicana\", \"mozarella\", \"Tomate\"]\n",
        "P2 = [3.00,6.00,15.00,10.00,12.00,0.00,0.00]\n",
        "precio_base = 5.00\n",
        "lCompra=[]\n",
        "lista=[]\n",
        "listaPrecios=[]\n",
        "ingredientesel=\"\"\n",
        "pseleccionada=\"\"\n",
        "terminado = False\n",
        "loop = False\n",
        "\n",
        "print(\"Bienvenido a Pizzeria Bella Napoli\")\n",
        "print(\"*\"*50)\n",
        "print(\"Menu de Opciones\")\n",
        "print(\"*\"*50)\n",
        "\n",
        "\n",
        "def menu(seleccion):\n",
        "  global lista\n",
        "  global pseleccionada\n",
        "  global terminado\n",
        "  global loop\n",
        "  global listaPrecios\n",
        "  seleccion = seleccion.lower()\n",
        "\n",
        "  while terminado == False:\n",
        "\n",
        "    if seleccion == str(1):\n",
        "      lista= Op1\n",
        "      listaPrecios = P1 \n",
        "      pseleccionada= \"Vegetariana\"\n",
        "      print(\" \",pseleccionada,\"\\n***Ingredientes\")\n",
        "      menu_ingredientes(lista)\n",
        "    elif seleccion == str(2): \n",
        "      lista = Op2\n",
        "      listaPrecios = P2 \n",
        "      pseleccionada= \"No vegetariana\"\n",
        "      print(\" \",pseleccionada,\"\\n***Ingredientes\")\n",
        "      menu_ingredientes(lista)\n",
        "    elif seleccion == 'e':\n",
        "      print(\"Programa terminado\",\"*\"*30)\n",
        "      terminado = True\n",
        "      return \"\"\n",
        "    else:\n",
        "      if loop == True:\n",
        "        print(menu(input(\"**Seleccionar el tipo de pizza que desea\\n (1) Vegetariana \\n (2) No Vegetariana \\n (E) Salir del menu \\n**Tipo de pizza \")))\n",
        "      else: \n",
        "        print(\"debe seleccionar un valor valido\")\n",
        "        print(menu(input(\"**Tipo de pizza \")))\n",
        "        terminado = False\n",
        "        return \"\"\n",
        "    return \"\"\n",
        "  return \"\"\n",
        "\n",
        "def menu_ingredientes(pizza):\n",
        "  print(\"***Seleccione un ingrediente de la lista:\")\n",
        "  for index,ingrediente in enumerate(pizza):\n",
        "    if ingrediente ==\"mozarella\":\n",
        "      print(\"  **\",ingrediente)\n",
        "    elif ingrediente ==\"Tomate\":\n",
        "      print(\"  **\",ingrediente)\n",
        "    else:\n",
        "      print(\"  \",index,ingrediente)\n",
        "\n",
        "  print(\"\\n  ** Tomate y Mozarella son ingredientes incluidos por defecto\")\n",
        "  print(registro_compra(input(\"****Ingrediente: \"),tipo_pizza))\n",
        "\n",
        "def registro_compra(ingrediente=0,pizza=0):\n",
        "  global lCompra\n",
        "  global loop\n",
        "  largo = len(lista)\n",
        "  ingrediente_seleccionado = \"\"\n",
        "  precioIngrediente = 0.00\n",
        "\n",
        "  if solonumeros(ingrediente)==False:\n",
        "    print(\"Solo valores numericos son validos\")\n",
        "    print(registro_compra(input(\"****Ingrediente: \"),tipo_pizza))\n",
        "    return \"\"\n",
        "\n",
        "  elif int(ingrediente) > largo or int(ingrediente) < 0:\n",
        "    print(\"Debe seleccionar una opcion valida\")\n",
        "    print(registro_compra(input(\"****Ingrediente: \"),tipo_pizza))\n",
        "    return \"\"\n",
        "  \n",
        "  else:\n",
        "    if tipo_pizza == str(1):\n",
        "      ingrediente_seleccionado = lista[int(ingrediente)]\n",
        "      precioIngrediente = listaPrecios[int(ingrediente)]\n",
        "    elif tipo_pizza == str(2):\n",
        "      ingrediente_seleccionado = lista[int(ingrediente)]\n",
        "      precioIngrediente= listaPrecios[int(ingrediente)]\n",
        "    else:\n",
        "      print(\"-\"*50)\n",
        "      return \"\"\n",
        "  lCompra.append({\"Tipo pizza\":pseleccionada,\"Ingrediente elegido\":ingrediente_seleccionado, \"Valor pizza\": precioIngrediente + precio_base })\n",
        "  loop = True\n",
        "  print(menu(\"0\"))\n",
        "  return \"\"\n",
        "\n",
        "def solonumeros(value):\n",
        "  for letter in value:\n",
        "    if letter not in st.digits:\n",
        "      return False\n",
        "  return True\n",
        "\n",
        "#def imprimir_ventas(reporte):\n",
        "  #df = pd.DataFrame(reporte)\n",
        "  #df.groupby('Tipo pizza','Ingrediente elegido').mean()\n",
        "  #return \n",
        "\n",
        "tipo_pizza = input(\"**Seleccionar el tipo de pizza que desea\\n (1) Vegetariana \\n (2) No Vegetariana \\n (E) Salir del menu \\n**Tipo de pizza \")\n",
        "print(menu(tipo_pizza))\n",
        "\n",
        "\n"
      ]
    },
    {
      "cell_type": "code",
      "source": [
        "df = pd.DataFrame(lCompra)\n",
        "df\n",
        "df.groupby(['Tipo pizza', 'Ingrediente elegido']).mean()"
      ],
      "metadata": {
        "id": "zM0kKWjUCnRG"
      },
      "execution_count": null,
      "outputs": []
    }
  ]
}