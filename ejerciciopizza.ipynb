{
  "nbformat": 4,
  "nbformat_minor": 0,
  "metadata": {
    "colab": {
      "provenance": [],
      "collapsed_sections": [],
      "authorship_tag": "ABX9TyMcbA615yZl258mRIdLQdoM",
      "include_colab_link": true
    },
    "kernelspec": {
      "name": "python3",
      "display_name": "Python 3"
    },
    "language_info": {
      "name": "python"
    }
  },
  "cells": [
    {
      "cell_type": "markdown",
      "metadata": {
        "id": "view-in-github",
        "colab_type": "text"
      },
      "source": [
        "<a href=\"https://colab.research.google.com/github/jjaquezrd/DATA_SCIENCE/blob/main/ejerciciopizza.ipynb\" target=\"_parent\"><img src=\"https://colab.research.google.com/assets/colab-badge.svg\" alt=\"Open In Colab\"/></a>"
      ]
    },
    {
      "cell_type": "markdown",
      "source": [
        "##Pizzeria"
      ],
      "metadata": {
        "id": "MWvsl3XAhm8T"
      }
    },
    {
      "cell_type": "code",
      "source": [
        "import sys as s"
      ],
      "metadata": {
        "id": "1MwsZBeFhqOM"
      },
      "execution_count": 2,
      "outputs": []
    },
    {
      "cell_type": "code",
      "source": [
        "import string as st"
      ],
      "metadata": {
        "id": "LIi1z0Kxv8fj"
      },
      "execution_count": 3,
      "outputs": []
    },
    {
      "cell_type": "code",
      "source": [
        "import pandas as pd"
      ],
      "metadata": {
        "id": "rZWwiW0p8E37"
      },
      "execution_count": 4,
      "outputs": []
    },
    {
      "cell_type": "code",
      "execution_count": 5,
      "metadata": {
        "colab": {
          "base_uri": "https://localhost:8080/"
        },
        "id": "7DDQ08VYgkC0",
        "outputId": "6d22613c-ac5b-474e-f694-0595f213dc85"
      },
      "outputs": [
        {
          "output_type": "stream",
          "name": "stdout",
          "text": [
            "Bienvenido a Pizzeria Bella Napoli\n",
            "**************************************************\n",
            "Menu de Opciones\n",
            "**************************************************\n",
            "**Seleccionar el tipo de pizza que desea\n",
            " (1) Vegetariana \n",
            " (2) No Vegetariana \n",
            " (E) Salir del menu \n",
            "**Tipo de pizza 1\n",
            "  Vegetariana \n",
            "***Ingredientes\n",
            "***Seleccione un ingrediente de la lista:\n",
            "   0 Pimiento\n",
            "   1 Tofu\n",
            "  ** mozarella\n",
            "  ** Tomate\n",
            "\n",
            "  ** Tomate y Mozarella son ingredientes incluidos por defecto\n",
            "****Ingrediente: 0\n",
            "**Seleccionar el tipo de pizza que desea\n",
            " (1) Vegetariana \n",
            " (2) No Vegetariana \n",
            " (E) Salir del menu \n",
            "**Tipo de pizza 2\n",
            "  No vegetariana \n",
            "***Ingredientes\n",
            "***Seleccione un ingrediente de la lista:\n",
            "   0 Peperoni\n",
            "   1 Jamon\n",
            "   2 Salmon\n",
            "  ** mozarella\n",
            "  ** Tomate\n",
            "\n",
            "  ** Tomate y Mozarella son ingredientes incluidos por defecto\n",
            "****Ingrediente: 1\n",
            "**Seleccionar el tipo de pizza que desea\n",
            " (1) Vegetariana \n",
            " (2) No Vegetariana \n",
            " (E) Salir del menu \n",
            "**Tipo de pizza 1\n",
            "  Vegetariana \n",
            "***Ingredientes\n",
            "***Seleccione un ingrediente de la lista:\n",
            "   0 Pimiento\n",
            "   1 Tofu\n",
            "  ** mozarella\n",
            "  ** Tomate\n",
            "\n",
            "  ** Tomate y Mozarella son ingredientes incluidos por defecto\n",
            "****Ingrediente: 0\n",
            "**Seleccionar el tipo de pizza que desea\n",
            " (1) Vegetariana \n",
            " (2) No Vegetariana \n",
            " (E) Salir del menu \n",
            "**Tipo de pizza 2\n",
            "  No vegetariana \n",
            "***Ingredientes\n",
            "***Seleccione un ingrediente de la lista:\n",
            "   0 Peperoni\n",
            "   1 Jamon\n",
            "   2 Salmon\n",
            "  ** mozarella\n",
            "  ** Tomate\n",
            "\n",
            "  ** Tomate y Mozarella son ingredientes incluidos por defecto\n",
            "****Ingrediente: 2\n",
            "**Seleccionar el tipo de pizza que desea\n",
            " (1) Vegetariana \n",
            " (2) No Vegetariana \n",
            " (E) Salir del menu \n",
            "**Tipo de pizza 2\n",
            "  No vegetariana \n",
            "***Ingredientes\n",
            "***Seleccione un ingrediente de la lista:\n",
            "   0 Peperoni\n",
            "   1 Jamon\n",
            "   2 Salmon\n",
            "  ** mozarella\n",
            "  ** Tomate\n",
            "\n",
            "  ** Tomate y Mozarella son ingredientes incluidos por defecto\n",
            "****Ingrediente: 0\n",
            "**Seleccionar el tipo de pizza que desea\n",
            " (1) Vegetariana \n",
            " (2) No Vegetariana \n",
            " (E) Salir del menu \n",
            "**Tipo de pizza e\n",
            "Programa terminado ******************************\n",
            "\n",
            "\n",
            "\n",
            "\n",
            "\n",
            "\n",
            "\n",
            "\n",
            "\n",
            "\n",
            "\n",
            "\n",
            "\n",
            "\n",
            "\n",
            "\n"
          ]
        }
      ],
      "source": [
        "Op1=[\"Pimiento\",\"Tofu\", \"mozarella\", \"Tomate\"]\n",
        "Op2=[\"Peperoni\",\"Jamon\",\"Salmon\", \"mozarella\", \"Tomate\"]\n",
        "lCompra=[]\n",
        "lista=[]\n",
        "ingredientesel=\"\"\n",
        "pseleccionada=\"\"\n",
        "terminado = False\n",
        "loop = False\n",
        "print(\"Bienvenido a Pizzeria Bella Napoli\")\n",
        "print(\"*\"*50)\n",
        "print(\"Menu de Opciones\")\n",
        "print(\"*\"*50)\n",
        "\n",
        "\n",
        "def menu(seleccion):\n",
        "  global lista\n",
        "  global pseleccionada\n",
        "  global terminado\n",
        "  global loop\n",
        "  seleccion = seleccion.lower()\n",
        "\n",
        "  while terminado == False:\n",
        "\n",
        "    if seleccion == str(1):\n",
        "      lista= Op1 \n",
        "      pseleccionada= \"Vegetariana\"\n",
        "      print(\" \",pseleccionada,\"\\n***Ingredientes\")\n",
        "      menu_ingredientes(lista)\n",
        "    elif seleccion == str(2): \n",
        "      lista = Op2 \n",
        "      pseleccionada= \"No vegetariana\"\n",
        "      print(\" \",pseleccionada,\"\\n***Ingredientes\")\n",
        "      menu_ingredientes(lista)\n",
        "    elif seleccion == 'e':\n",
        "      print(\"Programa terminado\",\"*\"*30)\n",
        "      terminado = True\n",
        "      return \"\"\n",
        "    else:\n",
        "      if loop == True:\n",
        "        print(menu(input(\"**Seleccionar el tipo de pizza que desea\\n (1) Vegetariana \\n (2) No Vegetariana \\n (E) Salir del menu \\n**Tipo de pizza \")))\n",
        "      else: \n",
        "        print(\"debe seleccionar un valor valido\")\n",
        "        print(menu(input(\"**Tipo de pizza \")))\n",
        "        terminado = False\n",
        "        return \"\"\n",
        "    return \"\"\n",
        "  return \"\"\n",
        "\n",
        "def menu_ingredientes(pizza):\n",
        "  print(\"***Seleccione un ingrediente de la lista:\")\n",
        "  for index,ingrediente in enumerate(pizza):\n",
        "    if ingrediente ==\"mozarella\":\n",
        "      print(\"  **\",ingrediente)\n",
        "    elif ingrediente ==\"Tomate\":\n",
        "      print(\"  **\",ingrediente)\n",
        "    else:\n",
        "      print(\"  \",index,ingrediente)\n",
        "\n",
        "  print(\"\\n  ** Tomate y Mozarella son ingredientes incluidos por defecto\")\n",
        "  print(registro_compra(input(\"****Ingrediente: \"),tipo_pizza))\n",
        "\n",
        "def registro_compra(ingrediente=0,pizza=0):\n",
        "  global lCompra\n",
        "  global loop\n",
        "  largo = len(lista)\n",
        "  ingrediente_seleccionado = \"\"\n",
        "\n",
        "  if solonumeros(ingrediente)==False:\n",
        "    print(\"Solo valores numericos son validos\")\n",
        "    print(registro_compra(input(\"****Ingrediente: \"),tipo_pizza))\n",
        "    return \"\"\n",
        "\n",
        "  elif int(ingrediente) > largo or int(ingrediente) < 0:\n",
        "    print(\"Debe seleccionar una opcion valida\")\n",
        "    print(registro_compra(input(\"****Ingrediente: \"),tipo_pizza))\n",
        "    return \"\"\n",
        "  \n",
        "  else:\n",
        "    if tipo_pizza == str(1):\n",
        "      ingrediente_seleccionado = lista[int(ingrediente)]\n",
        "    elif tipo_pizza == str(2):\n",
        "      ingrediente_seleccionado = lista[int(ingrediente)]\n",
        "    else:\n",
        "      print(\"-\"*50)\n",
        "      return \"\"\n",
        "  lCompra.append({\"Tipo pizza: \":pseleccionada,\"Ingrediente elegido\":ingrediente_seleccionado, \"Valor pizza\":0})\n",
        "  loop = True\n",
        "  print(menu(\"0\"))\n",
        "  return \"\"\n",
        "\n",
        "def solonumeros(value):\n",
        "  for letter in value:\n",
        "    if letter not in st.digits:\n",
        "      return False\n",
        "  return True\n",
        "\n",
        "def imprimir_ventas(reporte):\n",
        "  df = pd.DataFrame(reporte)\n",
        "  return df\n",
        "\n",
        "tipo_pizza = input(\"**Seleccionar el tipo de pizza que desea\\n (1) Vegetariana \\n (2) No Vegetariana \\n (E) Salir del menu \\n**Tipo de pizza \")\n",
        "print(menu(tipo_pizza))\n",
        "\n",
        "\n"
      ]
    },
    {
      "cell_type": "code",
      "source": [
        "print(imprimir_ventas(lCompra))"
      ],
      "metadata": {
        "colab": {
          "base_uri": "https://localhost:8080/"
        },
        "id": "zM0kKWjUCnRG",
        "outputId": "58e38faa-4726-42f0-d56e-0bccf315f307"
      },
      "execution_count": 6,
      "outputs": [
        {
          "output_type": "stream",
          "name": "stdout",
          "text": [
            "     Tipo pizza:  Ingrediente elegido  Valor pizza\n",
            "0     Vegetariana            Pimiento            0\n",
            "1  No vegetariana               Jamon            0\n",
            "2     Vegetariana            Pimiento            0\n",
            "3  No vegetariana              Salmon            0\n",
            "4  No vegetariana            Peperoni            0\n"
          ]
        }
      ]
    }
  ]
}