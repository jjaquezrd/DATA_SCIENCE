{
  "nbformat": 4,
  "nbformat_minor": 0,
  "metadata": {
    "colab": {
      "provenance": [],
      "collapsed_sections": [],
      "authorship_tag": "ABX9TyNFc8Rmkn+HkKyDp0F0nhM/",
      "include_colab_link": true
    },
    "kernelspec": {
      "name": "python3",
      "display_name": "Python 3"
    },
    "language_info": {
      "name": "python"
    }
  },
  "cells": [
    {
      "cell_type": "markdown",
      "metadata": {
        "id": "view-in-github",
        "colab_type": "text"
      },
      "source": [
        "<a href=\"https://colab.research.google.com/github/jjaquezrd/DATA_SCIENCE/blob/main/OPCIONAL_Tarea_Funciones_intermedias_II.ipynb\" target=\"_parent\"><img src=\"https://colab.research.google.com/assets/colab-badge.svg\" alt=\"Open In Colab\"/></a>"
      ]
    },
    {
      "cell_type": "markdown",
      "source": [
        "1. Actualizar valores en diccionarios y listas"
      ],
      "metadata": {
        "id": "fCvewX4NwVbB"
      }
    },
    {
      "cell_type": "code",
      "source": [
        "x = [ [5,2,3], [10,8,9] ] \n",
        "students = [\n",
        "     {'first_name':  'Michael', 'last_name' : 'Jordan'},\n",
        "     {'first_name' : 'John', 'last_name' : 'Rosales'}\n",
        "]\n",
        "sports_directory = {\n",
        "    'basketball' : ['Kobe', 'Jordan', 'James', 'Curry'],\n",
        "    'soccer' : ['Messi', 'Ronaldo', 'Rooney']\n",
        "}\n",
        "z = [ {'x': 10, 'y': 20} ]\n"
      ],
      "metadata": {
        "id": "Go7PkHPewXPC"
      },
      "execution_count": null,
      "outputs": []
    },
    {
      "cell_type": "markdown",
      "source": [
        "1. Cambiar el valor 10 en x a 15. Una vez que hayas terminado, x ahora debería ser [[5,2,3], [15,8,9]].\n",
        "2. Cambiar el last_name del primer alumno de 'Jordan' a 'Bryant'\n",
        "3. En el sports_directory, cambie 'Messi' por 'Andrés'.\n",
        "4. Cambiar el valor 20 en z a 30."
      ],
      "metadata": {
        "id": "XaA-PhZKwiMC"
      }
    },
    {
      "cell_type": "code",
      "source": [
        "x[1][0]=15\n",
        "print(x)"
      ],
      "metadata": {
        "colab": {
          "base_uri": "https://localhost:8080/"
        },
        "id": "HL4aMbJIwjBD",
        "outputId": "05ccdb90-f0c8-4e83-bb29-a07fb3d5f16c"
      },
      "execution_count": null,
      "outputs": [
        {
          "output_type": "stream",
          "name": "stdout",
          "text": [
            "[[5, 2, 3], [15, 8, 9]]\n"
          ]
        }
      ]
    },
    {
      "cell_type": "code",
      "execution_count": null,
      "metadata": {
        "colab": {
          "base_uri": "https://localhost:8080/"
        },
        "id": "5DkhDGDHwPQJ",
        "outputId": "7237b478-927d-4655-bdb3-36ef8e0ff6c6"
      },
      "outputs": [
        {
          "output_type": "stream",
          "name": "stdout",
          "text": [
            "[{'first_name': 'Bryant', 'last_name': 'Jordan'}, {'first_name': 'John', 'last_name': 'Rosales'}]\n"
          ]
        }
      ],
      "source": [
        "students[0]['first_name']='Bryant'\n",
        "print (students)"
      ]
    },
    {
      "cell_type": "code",
      "source": [
        "sports_directory['soccer'][0]='Andres'\n",
        "print(sports_directory)\n"
      ],
      "metadata": {
        "colab": {
          "base_uri": "https://localhost:8080/"
        },
        "id": "oNBNsx7P1twp",
        "outputId": "35ebe59a-cc32-43e3-da88-82295a9d420a"
      },
      "execution_count": null,
      "outputs": [
        {
          "output_type": "stream",
          "name": "stdout",
          "text": [
            "{'basketball': ['Kobe', 'Jordan', 'James', 'Curry'], 'soccer': ['Andres', 'Ronaldo', 'Rooney']}\n"
          ]
        }
      ]
    },
    {
      "cell_type": "code",
      "source": [
        "z[0]['y']=30\n",
        "print(z)"
      ],
      "metadata": {
        "colab": {
          "base_uri": "https://localhost:8080/"
        },
        "id": "nB33mQ6T5Cer",
        "outputId": "fcf4b6ed-8267-4489-bf7f-1ce36b548b75"
      },
      "execution_count": null,
      "outputs": [
        {
          "output_type": "stream",
          "name": "stdout",
          "text": [
            "[{'x': 10, 'y': 30}]\n"
          ]
        }
      ]
    },
    {
      "cell_type": "markdown",
      "source": [
        "Iterar a través de una lista de diccionarios\n",
        "\n",
        "Crear una función iterateDictionary(some_list para que, dada una lista de diccionarios, la función recorra cada diccionario de la lista e imprima cada llave y el valor asociado. Por ejemplo, dada la siguiente lista:"
      ],
      "metadata": {
        "id": "qLiuIKfbOBQ9"
      }
    },
    {
      "cell_type": "code",
      "source": [
        "students = [\n",
        "         {'first_name':  'Michael', 'last_name' : 'Jordan'},\n",
        "         {'first_name' : 'John', 'last_name' : 'Rosales'},\n",
        "         {'first_name' : 'Mark', 'last_name' : 'Guillen'},\n",
        "         {'first_name' : 'KB', 'last_name' : 'Tonel'}\n",
        "    ]\n",
        "def iterateDictionary(students):\n",
        "  lista=[]\n",
        "  elemento2=\"\"\n",
        "  for diccionario in range(len(students)):\n",
        "    for nombre, apellido in students[diccionario].items():\n",
        "        elemento = str(f'{nombre}- {apellido} \\n')\n",
        "    lista=[elemento]\n",
        "    print(lista) \n",
        "\n",
        "print(iterateDictionary(students))\n",
        "# debería generar: (está bien si cada par llave-valor termina en 2 líneas separadas;\n",
        "# ¡bonificación para que aparezcan exactamente como se muestra a continuación!)\n",
        "#first_name - Michael, last_name - Jordan\n",
        "#first_name - John, last_name - Rosales\n",
        "#first_name - Mark, last_name - Guillen\n",
        "#first_name - KB, last_name - Tonel\n"
      ],
      "metadata": {
        "colab": {
          "base_uri": "https://localhost:8080/"
        },
        "id": "RMx4MSpJOCHk",
        "outputId": "3c8065bb-f13c-48f8-a970-db0dfadec679"
      },
      "execution_count": null,
      "outputs": [
        {
          "output_type": "stream",
          "name": "stdout",
          "text": [
            "['last_name- Jordan \\n']\n",
            "['last_name- Rosales \\n']\n",
            "['last_name- Guillen \\n']\n",
            "['last_name- Tonel \\n']\n",
            "None\n"
          ]
        }
      ]
    }
  ]
}