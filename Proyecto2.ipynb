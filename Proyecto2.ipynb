{
  "nbformat": 4,
  "nbformat_minor": 0,
  "metadata": {
    "colab": {
      "provenance": [],
      "mount_file_id": "https://github.com/jjaquezrd/DATA_SCIENCE/blob/main/Proyecto2.ipynb",
      "authorship_tag": "ABX9TyOuwJFOgh5grSGpL1325P6v",
      "include_colab_link": true
    },
    "kernelspec": {
      "name": "python3",
      "display_name": "Python 3"
    },
    "language_info": {
      "name": "python"
    }
  },
  "cells": [
    {
      "cell_type": "markdown",
      "metadata": {
        "id": "view-in-github",
        "colab_type": "text"
      },
      "source": [
        "<a href=\"https://colab.research.google.com/github/jjaquezrd/DATA_SCIENCE/blob/main/Proyecto2.ipynb\" target=\"_parent\"><img src=\"https://colab.research.google.com/assets/colab-badge.svg\" alt=\"Open In Colab\"/></a>"
      ]
    },
    {
      "cell_type": "code",
      "execution_count": 1,
      "metadata": {
        "id": "-Bt8r9tNeccg"
      },
      "outputs": [],
      "source": [
        "import pandas as pd\n",
        "import numpy as np\n",
        "import matplotlib.pyplot as plt\n",
        "import seaborn as sns\n",
        "from sklearn.model_selection import train_test_split\n",
        "from sklearn.preprocessing import StandardScaler\n",
        "from sklearn.tree import DecisionTreeClassifier\n",
        "from sklearn.neighbors import KNeighborsClassifier\n",
        "from sklearn.linear_model import LogisticRegression\n",
        "from sklearn.ensemble import RandomForestClassifier\n",
        "from sklearn.tree import DecisionTreeClassifier\n",
        "from sklearn.metrics import accuracy_score , classification_report, ConfusionMatrixDisplay,precision_score,recall_score, f1_score,roc_auc_score,roc_curve"
      ]
    },
    {
      "cell_type": "code",
      "source": [
        "Opcion1 = '/content/drive/MyDrive/Data_Science/DataSet/Fraud.csv'\n",
        "opcion2 = '/content/drive/MyDrive/Data_Science/DataSet/diabetes_data.csv'"
      ],
      "metadata": {
        "id": "tLcp98DoejbI"
      },
      "execution_count": 2,
      "outputs": []
    },
    {
      "cell_type": "code",
      "source": [
        "df1 = pd.read_csv(Opcion1)\n",
        "df2 = pd.read_csv(opcion2)"
      ],
      "metadata": {
        "id": "-Km8Dfb7fYkP"
      },
      "execution_count": 3,
      "outputs": []
    },
    {
      "cell_type": "markdown",
      "source": [
        "#Proyecto 2 - Ciencia de Datos\n",
        "## Clasificador de pacientes con diabetes\n",
        "### Antecedentes:\n",
        "Dado un set de datos compuesto por informaciones de un determinado grupo de personas evaluadas, se pretende clasificar o diagnosticar en datos futuros cuando una persona puede tener diabetes o no.\n",
        "\n",
        "*Por lo tanto este es un ejercicio de clasificación*\n",
        "\n",
        "Fuente de datos: https://www.kaggle.com/datasets/prosperchuks/health-dataset\n",
        "\n",
        "Para este ejercicio estaremos utilizando exclusivamente los datos del set de Diabetes\n",
        "\n",
        "### Descripcion del set de datos\n",
        "\n",
        "El set de datos en el que se basa este ejercicio está compuesto por 18 columnas y 70,692 filas. \n",
        "\n",
        "En una revisión inicial del conjunto de datos se observa que los mismos están balanceados, y estandarizados. Así mismo no se observan mayores retos con datos faltantes o datos duplicados.\n"
      ],
      "metadata": {
        "id": "v82yUSg4LOFZ"
      }
    },
    {
      "cell_type": "markdown",
      "source": [
        "# Exploracion de datos"
      ],
      "metadata": {
        "id": "sto6oc5BMiwJ"
      }
    },
    {
      "cell_type": "code",
      "source": [
        "df2.head()"
      ],
      "metadata": {
        "colab": {
          "base_uri": "https://localhost:8080/",
          "height": 270
        },
        "id": "oSVo86IDgp8F",
        "outputId": "7cf4e14e-52d8-4822-9b3f-c40142f13d73"
      },
      "execution_count": 4,
      "outputs": [
        {
          "output_type": "execute_result",
          "data": {
            "text/plain": [
              "    Age  Sex  HighChol  CholCheck   BMI  Smoker  HeartDiseaseorAttack  \\\n",
              "0   4.0  1.0       0.0        1.0  26.0     0.0                   0.0   \n",
              "1  12.0  1.0       1.0        1.0  26.0     1.0                   0.0   \n",
              "2  13.0  1.0       0.0        1.0  26.0     0.0                   0.0   \n",
              "3  11.0  1.0       1.0        1.0  28.0     1.0                   0.0   \n",
              "4   8.0  0.0       0.0        1.0  29.0     1.0                   0.0   \n",
              "\n",
              "   PhysActivity  Fruits  Veggies  HvyAlcoholConsump  GenHlth  MentHlth  \\\n",
              "0           1.0     0.0      1.0                0.0      3.0       5.0   \n",
              "1           0.0     1.0      0.0                0.0      3.0       0.0   \n",
              "2           1.0     1.0      1.0                0.0      1.0       0.0   \n",
              "3           1.0     1.0      1.0                0.0      3.0       0.0   \n",
              "4           1.0     1.0      1.0                0.0      2.0       0.0   \n",
              "\n",
              "   PhysHlth  DiffWalk  Stroke  HighBP  Diabetes  \n",
              "0      30.0       0.0     0.0     1.0       0.0  \n",
              "1       0.0       0.0     1.0     1.0       0.0  \n",
              "2      10.0       0.0     0.0     0.0       0.0  \n",
              "3       3.0       0.0     0.0     1.0       0.0  \n",
              "4       0.0       0.0     0.0     0.0       0.0  "
            ],
            "text/html": [
              "\n",
              "  <div id=\"df-7d48d6ef-8e77-4d25-af67-a2a0f9d2c5b2\">\n",
              "    <div class=\"colab-df-container\">\n",
              "      <div>\n",
              "<style scoped>\n",
              "    .dataframe tbody tr th:only-of-type {\n",
              "        vertical-align: middle;\n",
              "    }\n",
              "\n",
              "    .dataframe tbody tr th {\n",
              "        vertical-align: top;\n",
              "    }\n",
              "\n",
              "    .dataframe thead th {\n",
              "        text-align: right;\n",
              "    }\n",
              "</style>\n",
              "<table border=\"1\" class=\"dataframe\">\n",
              "  <thead>\n",
              "    <tr style=\"text-align: right;\">\n",
              "      <th></th>\n",
              "      <th>Age</th>\n",
              "      <th>Sex</th>\n",
              "      <th>HighChol</th>\n",
              "      <th>CholCheck</th>\n",
              "      <th>BMI</th>\n",
              "      <th>Smoker</th>\n",
              "      <th>HeartDiseaseorAttack</th>\n",
              "      <th>PhysActivity</th>\n",
              "      <th>Fruits</th>\n",
              "      <th>Veggies</th>\n",
              "      <th>HvyAlcoholConsump</th>\n",
              "      <th>GenHlth</th>\n",
              "      <th>MentHlth</th>\n",
              "      <th>PhysHlth</th>\n",
              "      <th>DiffWalk</th>\n",
              "      <th>Stroke</th>\n",
              "      <th>HighBP</th>\n",
              "      <th>Diabetes</th>\n",
              "    </tr>\n",
              "  </thead>\n",
              "  <tbody>\n",
              "    <tr>\n",
              "      <th>0</th>\n",
              "      <td>4.0</td>\n",
              "      <td>1.0</td>\n",
              "      <td>0.0</td>\n",
              "      <td>1.0</td>\n",
              "      <td>26.0</td>\n",
              "      <td>0.0</td>\n",
              "      <td>0.0</td>\n",
              "      <td>1.0</td>\n",
              "      <td>0.0</td>\n",
              "      <td>1.0</td>\n",
              "      <td>0.0</td>\n",
              "      <td>3.0</td>\n",
              "      <td>5.0</td>\n",
              "      <td>30.0</td>\n",
              "      <td>0.0</td>\n",
              "      <td>0.0</td>\n",
              "      <td>1.0</td>\n",
              "      <td>0.0</td>\n",
              "    </tr>\n",
              "    <tr>\n",
              "      <th>1</th>\n",
              "      <td>12.0</td>\n",
              "      <td>1.0</td>\n",
              "      <td>1.0</td>\n",
              "      <td>1.0</td>\n",
              "      <td>26.0</td>\n",
              "      <td>1.0</td>\n",
              "      <td>0.0</td>\n",
              "      <td>0.0</td>\n",
              "      <td>1.0</td>\n",
              "      <td>0.0</td>\n",
              "      <td>0.0</td>\n",
              "      <td>3.0</td>\n",
              "      <td>0.0</td>\n",
              "      <td>0.0</td>\n",
              "      <td>0.0</td>\n",
              "      <td>1.0</td>\n",
              "      <td>1.0</td>\n",
              "      <td>0.0</td>\n",
              "    </tr>\n",
              "    <tr>\n",
              "      <th>2</th>\n",
              "      <td>13.0</td>\n",
              "      <td>1.0</td>\n",
              "      <td>0.0</td>\n",
              "      <td>1.0</td>\n",
              "      <td>26.0</td>\n",
              "      <td>0.0</td>\n",
              "      <td>0.0</td>\n",
              "      <td>1.0</td>\n",
              "      <td>1.0</td>\n",
              "      <td>1.0</td>\n",
              "      <td>0.0</td>\n",
              "      <td>1.0</td>\n",
              "      <td>0.0</td>\n",
              "      <td>10.0</td>\n",
              "      <td>0.0</td>\n",
              "      <td>0.0</td>\n",
              "      <td>0.0</td>\n",
              "      <td>0.0</td>\n",
              "    </tr>\n",
              "    <tr>\n",
              "      <th>3</th>\n",
              "      <td>11.0</td>\n",
              "      <td>1.0</td>\n",
              "      <td>1.0</td>\n",
              "      <td>1.0</td>\n",
              "      <td>28.0</td>\n",
              "      <td>1.0</td>\n",
              "      <td>0.0</td>\n",
              "      <td>1.0</td>\n",
              "      <td>1.0</td>\n",
              "      <td>1.0</td>\n",
              "      <td>0.0</td>\n",
              "      <td>3.0</td>\n",
              "      <td>0.0</td>\n",
              "      <td>3.0</td>\n",
              "      <td>0.0</td>\n",
              "      <td>0.0</td>\n",
              "      <td>1.0</td>\n",
              "      <td>0.0</td>\n",
              "    </tr>\n",
              "    <tr>\n",
              "      <th>4</th>\n",
              "      <td>8.0</td>\n",
              "      <td>0.0</td>\n",
              "      <td>0.0</td>\n",
              "      <td>1.0</td>\n",
              "      <td>29.0</td>\n",
              "      <td>1.0</td>\n",
              "      <td>0.0</td>\n",
              "      <td>1.0</td>\n",
              "      <td>1.0</td>\n",
              "      <td>1.0</td>\n",
              "      <td>0.0</td>\n",
              "      <td>2.0</td>\n",
              "      <td>0.0</td>\n",
              "      <td>0.0</td>\n",
              "      <td>0.0</td>\n",
              "      <td>0.0</td>\n",
              "      <td>0.0</td>\n",
              "      <td>0.0</td>\n",
              "    </tr>\n",
              "  </tbody>\n",
              "</table>\n",
              "</div>\n",
              "      <button class=\"colab-df-convert\" onclick=\"convertToInteractive('df-7d48d6ef-8e77-4d25-af67-a2a0f9d2c5b2')\"\n",
              "              title=\"Convert this dataframe to an interactive table.\"\n",
              "              style=\"display:none;\">\n",
              "        \n",
              "  <svg xmlns=\"http://www.w3.org/2000/svg\" height=\"24px\"viewBox=\"0 0 24 24\"\n",
              "       width=\"24px\">\n",
              "    <path d=\"M0 0h24v24H0V0z\" fill=\"none\"/>\n",
              "    <path d=\"M18.56 5.44l.94 2.06.94-2.06 2.06-.94-2.06-.94-.94-2.06-.94 2.06-2.06.94zm-11 1L8.5 8.5l.94-2.06 2.06-.94-2.06-.94L8.5 2.5l-.94 2.06-2.06.94zm10 10l.94 2.06.94-2.06 2.06-.94-2.06-.94-.94-2.06-.94 2.06-2.06.94z\"/><path d=\"M17.41 7.96l-1.37-1.37c-.4-.4-.92-.59-1.43-.59-.52 0-1.04.2-1.43.59L10.3 9.45l-7.72 7.72c-.78.78-.78 2.05 0 2.83L4 21.41c.39.39.9.59 1.41.59.51 0 1.02-.2 1.41-.59l7.78-7.78 2.81-2.81c.8-.78.8-2.07 0-2.86zM5.41 20L4 18.59l7.72-7.72 1.47 1.35L5.41 20z\"/>\n",
              "  </svg>\n",
              "      </button>\n",
              "      \n",
              "  <style>\n",
              "    .colab-df-container {\n",
              "      display:flex;\n",
              "      flex-wrap:wrap;\n",
              "      gap: 12px;\n",
              "    }\n",
              "\n",
              "    .colab-df-convert {\n",
              "      background-color: #E8F0FE;\n",
              "      border: none;\n",
              "      border-radius: 50%;\n",
              "      cursor: pointer;\n",
              "      display: none;\n",
              "      fill: #1967D2;\n",
              "      height: 32px;\n",
              "      padding: 0 0 0 0;\n",
              "      width: 32px;\n",
              "    }\n",
              "\n",
              "    .colab-df-convert:hover {\n",
              "      background-color: #E2EBFA;\n",
              "      box-shadow: 0px 1px 2px rgba(60, 64, 67, 0.3), 0px 1px 3px 1px rgba(60, 64, 67, 0.15);\n",
              "      fill: #174EA6;\n",
              "    }\n",
              "\n",
              "    [theme=dark] .colab-df-convert {\n",
              "      background-color: #3B4455;\n",
              "      fill: #D2E3FC;\n",
              "    }\n",
              "\n",
              "    [theme=dark] .colab-df-convert:hover {\n",
              "      background-color: #434B5C;\n",
              "      box-shadow: 0px 1px 3px 1px rgba(0, 0, 0, 0.15);\n",
              "      filter: drop-shadow(0px 1px 2px rgba(0, 0, 0, 0.3));\n",
              "      fill: #FFFFFF;\n",
              "    }\n",
              "  </style>\n",
              "\n",
              "      <script>\n",
              "        const buttonEl =\n",
              "          document.querySelector('#df-7d48d6ef-8e77-4d25-af67-a2a0f9d2c5b2 button.colab-df-convert');\n",
              "        buttonEl.style.display =\n",
              "          google.colab.kernel.accessAllowed ? 'block' : 'none';\n",
              "\n",
              "        async function convertToInteractive(key) {\n",
              "          const element = document.querySelector('#df-7d48d6ef-8e77-4d25-af67-a2a0f9d2c5b2');\n",
              "          const dataTable =\n",
              "            await google.colab.kernel.invokeFunction('convertToInteractive',\n",
              "                                                     [key], {});\n",
              "          if (!dataTable) return;\n",
              "\n",
              "          const docLinkHtml = 'Like what you see? Visit the ' +\n",
              "            '<a target=\"_blank\" href=https://colab.research.google.com/notebooks/data_table.ipynb>data table notebook</a>'\n",
              "            + ' to learn more about interactive tables.';\n",
              "          element.innerHTML = '';\n",
              "          dataTable['output_type'] = 'display_data';\n",
              "          await google.colab.output.renderOutput(dataTable, element);\n",
              "          const docLink = document.createElement('div');\n",
              "          docLink.innerHTML = docLinkHtml;\n",
              "          element.appendChild(docLink);\n",
              "        }\n",
              "      </script>\n",
              "    </div>\n",
              "  </div>\n",
              "  "
            ]
          },
          "metadata": {},
          "execution_count": 4
        }
      ]
    },
    {
      "cell_type": "code",
      "source": [
        "df2.info()"
      ],
      "metadata": {
        "colab": {
          "base_uri": "https://localhost:8080/"
        },
        "id": "CSlHsRM-j8-l",
        "outputId": "6fc1a12a-da7d-42d1-e3ef-82741902d106"
      },
      "execution_count": 5,
      "outputs": [
        {
          "output_type": "stream",
          "name": "stdout",
          "text": [
            "<class 'pandas.core.frame.DataFrame'>\n",
            "RangeIndex: 70692 entries, 0 to 70691\n",
            "Data columns (total 18 columns):\n",
            " #   Column                Non-Null Count  Dtype  \n",
            "---  ------                --------------  -----  \n",
            " 0   Age                   70692 non-null  float64\n",
            " 1   Sex                   70692 non-null  float64\n",
            " 2   HighChol              70692 non-null  float64\n",
            " 3   CholCheck             70692 non-null  float64\n",
            " 4   BMI                   70692 non-null  float64\n",
            " 5   Smoker                70692 non-null  float64\n",
            " 6   HeartDiseaseorAttack  70692 non-null  float64\n",
            " 7   PhysActivity          70692 non-null  float64\n",
            " 8   Fruits                70692 non-null  float64\n",
            " 9   Veggies               70692 non-null  float64\n",
            " 10  HvyAlcoholConsump     70692 non-null  float64\n",
            " 11  GenHlth               70692 non-null  float64\n",
            " 12  MentHlth              70692 non-null  float64\n",
            " 13  PhysHlth              70692 non-null  float64\n",
            " 14  DiffWalk              70692 non-null  float64\n",
            " 15  Stroke                70692 non-null  float64\n",
            " 16  HighBP                70692 non-null  float64\n",
            " 17  Diabetes              70692 non-null  float64\n",
            "dtypes: float64(18)\n",
            "memory usage: 9.7 MB\n"
          ]
        }
      ]
    },
    {
      "cell_type": "markdown",
      "source": [
        "---\n",
        "**Observacion**: En el set de datos en estudio no se observan valores nulos, \n",
        "adicionalmente no se visualizan datos con formato object, por lo tanto, se descartan datos inconsistentes como por ejemplo (Cat, cat)\n",
        "\n",
        "---"
      ],
      "metadata": {
        "id": "60LDdsfCMwow"
      }
    },
    {
      "cell_type": "markdown",
      "source": [
        "## Diccionario de datos\n",
        "\n",
        "**Age:** 13-level age category **(_AGEG5YR see codebook)* 1 = 18-24 9 = 60-64 13 = 80 or older\n",
        "\n",
        "**Sex:** patient's gender *(1: male; 0: female)*.\n",
        "\n",
        "**HighChol:** *(0 = no high cholesterol 1 = high cholesterol)*\n",
        "\n",
        "**CholCheck:** *(0 = no cholesterol check in 5 years 1 = yes cholesterol check in 5 years)*\n",
        "\n",
        "**BMI:** Body Mass Index\n",
        "\n",
        "**Smoker:** Have you smoked at least 100 cigarettes in your entire life? *([Note: 5 packs = 100 cigarettes] 0 = no 1 = yes)*\n",
        "\n",
        "**HeartDiseaseorAttack:** coronary heart disease (CHD) or myocardial infarction (MI)*( 0 = no 1 = yes)*\n",
        "\n",
        "**PhysActivity:** physical activity in past 30 days - not including job *(0 = no 1 = yes)*\n",
        "\n",
        "**Fruits:** Consume Fruit 1 or more times per day *(0 = no 1 = yes)*\n",
        "\n",
        "**Veggies:** Consume Vegetables 1 or more times per day *(0 = no 1 = yes)*\n",
        "\n",
        "**HvyAlcoholConsump:** (adult men >=14 drinks per week and adult women>=7 drinks per week) *(0 = no 1 = yes)*\n",
        "\n",
        "**GenHlth:** Would you say that in general your health is: *(scale 1-5 1 = excellent 2 = very good 3 = good 4 = fair 5 = poor)*\n",
        "\n",
        "**MentHlth:** days of poor mental health scale 1-30 days\n",
        "\n",
        "**PhysHlth:** physical illness or injury days in past 30 days scale 1-30\n",
        "\n",
        "**DiffWalk:** Do you have serious difficulty walking or climbing stairs? *(0 = no 1 = yes)*\n",
        "\n",
        "**Stroke:** you ever had a stroke. *(0 = no, 1 = yes)*\n",
        "\n",
        "**HighBP:** *(0 = no high, BP 1 = high BP)*\n",
        "\n",
        "**Diabetes:** *(0 = no diabetes, 1 = diabetes)*"
      ],
      "metadata": {
        "id": "vlHNyFnfN_NF"
      }
    },
    {
      "cell_type": "markdown",
      "source": [
        "### Verificacion de datos duplicados"
      ],
      "metadata": {
        "id": "kE3XaWroP2z9"
      }
    },
    {
      "cell_type": "code",
      "source": [
        "#verificacion de datos duplicados:\n",
        "print('Numero de filas duplicadas', df2.duplicated().sum())"
      ],
      "metadata": {
        "colab": {
          "base_uri": "https://localhost:8080/"
        },
        "id": "6Fy0SrJiRNqU",
        "outputId": "71b63c4c-a3a9-40ed-ce6c-b111da703d0e"
      },
      "execution_count": 6,
      "outputs": [
        {
          "output_type": "stream",
          "name": "stdout",
          "text": [
            "Numero de filas duplicadas 6672\n"
          ]
        }
      ]
    },
    {
      "cell_type": "code",
      "source": [
        "#se Identificacion 6,672 filas duplicadas.\n",
        "#se proceden a eliminar los duplicados\n",
        "df2.drop_duplicates(inplace=True)\n",
        "df2.info()"
      ],
      "metadata": {
        "colab": {
          "base_uri": "https://localhost:8080/"
        },
        "id": "atBPPplJRzfF",
        "outputId": "f6a9eb75-4c54-436b-9d71-2e8ae7620e38"
      },
      "execution_count": 7,
      "outputs": [
        {
          "output_type": "stream",
          "name": "stdout",
          "text": [
            "<class 'pandas.core.frame.DataFrame'>\n",
            "Int64Index: 64020 entries, 0 to 70691\n",
            "Data columns (total 18 columns):\n",
            " #   Column                Non-Null Count  Dtype  \n",
            "---  ------                --------------  -----  \n",
            " 0   Age                   64020 non-null  float64\n",
            " 1   Sex                   64020 non-null  float64\n",
            " 2   HighChol              64020 non-null  float64\n",
            " 3   CholCheck             64020 non-null  float64\n",
            " 4   BMI                   64020 non-null  float64\n",
            " 5   Smoker                64020 non-null  float64\n",
            " 6   HeartDiseaseorAttack  64020 non-null  float64\n",
            " 7   PhysActivity          64020 non-null  float64\n",
            " 8   Fruits                64020 non-null  float64\n",
            " 9   Veggies               64020 non-null  float64\n",
            " 10  HvyAlcoholConsump     64020 non-null  float64\n",
            " 11  GenHlth               64020 non-null  float64\n",
            " 12  MentHlth              64020 non-null  float64\n",
            " 13  PhysHlth              64020 non-null  float64\n",
            " 14  DiffWalk              64020 non-null  float64\n",
            " 15  Stroke                64020 non-null  float64\n",
            " 16  HighBP                64020 non-null  float64\n",
            " 17  Diabetes              64020 non-null  float64\n",
            "dtypes: float64(18)\n",
            "memory usage: 9.3 MB\n"
          ]
        }
      ]
    },
    {
      "cell_type": "markdown",
      "source": [
        "---\n",
        "\n",
        "**Observaciones:** Al verificar el set de datos se observa que los campos que pudieran considerse como nominales\n",
        "ya estan adecuados, ademas de que son campos de dos valores (0 y 1) o true o false. Por lo \n",
        "que entendemos no es necesiario realizar One- hot encorder.\n",
        "\n",
        "---"
      ],
      "metadata": {
        "id": "l0oMGerf1Pj2"
      }
    },
    {
      "cell_type": "code",
      "source": [
        "# verificacion de la calidad del set de datos y verificar necesidad de normalizacion del mismo\n",
        "df2.describe()"
      ],
      "metadata": {
        "colab": {
          "base_uri": "https://localhost:8080/",
          "height": 364
        },
        "id": "18l6g6AWptX6",
        "outputId": "0d5d4720-4261-4854-877f-1157f43008d6"
      },
      "execution_count": 8,
      "outputs": [
        {
          "output_type": "execute_result",
          "data": {
            "text/plain": [
              "                Age           Sex      HighChol     CholCheck           BMI  \\\n",
              "count  64020.000000  64020.000000  64020.000000  64020.000000  64020.000000   \n",
              "mean       8.607420      0.455983      0.539550      0.973211     30.178554   \n",
              "std        2.860717      0.498063      0.498437      0.161466      7.287730   \n",
              "min        1.000000      0.000000      0.000000      0.000000     12.000000   \n",
              "25%        7.000000      0.000000      0.000000      1.000000     25.000000   \n",
              "50%        9.000000      0.000000      1.000000      1.000000     29.000000   \n",
              "75%       11.000000      1.000000      1.000000      1.000000     34.000000   \n",
              "max       13.000000      1.000000      1.000000      1.000000     98.000000   \n",
              "\n",
              "             Smoker  HeartDiseaseorAttack  PhysActivity        Fruits  \\\n",
              "count  64020.000000          64020.000000  64020.000000  64020.000000   \n",
              "mean       0.490706              0.159950      0.678366      0.590862   \n",
              "std        0.499918              0.366563      0.467107      0.491679   \n",
              "min        0.000000              0.000000      0.000000      0.000000   \n",
              "25%        0.000000              0.000000      0.000000      0.000000   \n",
              "50%        0.000000              0.000000      1.000000      1.000000   \n",
              "75%        1.000000              0.000000      1.000000      1.000000   \n",
              "max        1.000000              1.000000      1.000000      1.000000   \n",
              "\n",
              "            Veggies  HvyAlcoholConsump       GenHlth      MentHlth  \\\n",
              "count  64020.000000       64020.000000  64020.000000  64020.000000   \n",
              "mean       0.771587           0.046345      2.921103      4.130537   \n",
              "std        0.419813           0.210233      1.107991      8.466301   \n",
              "min        0.000000           0.000000      1.000000      0.000000   \n",
              "25%        1.000000           0.000000      2.000000      0.000000   \n",
              "50%        1.000000           0.000000      3.000000      0.000000   \n",
              "75%        1.000000           0.000000      4.000000      3.000000   \n",
              "max        1.000000           1.000000      5.000000     30.000000   \n",
              "\n",
              "           PhysHlth      DiffWalk        Stroke        HighBP      Diabetes  \n",
              "count  64020.000000  64020.000000  64020.000000  64020.000000  64020.000000  \n",
              "mean       6.385020      0.277007      0.068510      0.581756      0.521681  \n",
              "std       10.368493      0.447524      0.252621      0.493275      0.499534  \n",
              "min        0.000000      0.000000      0.000000      0.000000      0.000000  \n",
              "25%        0.000000      0.000000      0.000000      0.000000      0.000000  \n",
              "50%        0.000000      0.000000      0.000000      1.000000      1.000000  \n",
              "75%        7.000000      1.000000      0.000000      1.000000      1.000000  \n",
              "max       30.000000      1.000000      1.000000      1.000000      1.000000  "
            ],
            "text/html": [
              "\n",
              "  <div id=\"df-702a405c-a537-4561-b4e4-d67fa5665388\">\n",
              "    <div class=\"colab-df-container\">\n",
              "      <div>\n",
              "<style scoped>\n",
              "    .dataframe tbody tr th:only-of-type {\n",
              "        vertical-align: middle;\n",
              "    }\n",
              "\n",
              "    .dataframe tbody tr th {\n",
              "        vertical-align: top;\n",
              "    }\n",
              "\n",
              "    .dataframe thead th {\n",
              "        text-align: right;\n",
              "    }\n",
              "</style>\n",
              "<table border=\"1\" class=\"dataframe\">\n",
              "  <thead>\n",
              "    <tr style=\"text-align: right;\">\n",
              "      <th></th>\n",
              "      <th>Age</th>\n",
              "      <th>Sex</th>\n",
              "      <th>HighChol</th>\n",
              "      <th>CholCheck</th>\n",
              "      <th>BMI</th>\n",
              "      <th>Smoker</th>\n",
              "      <th>HeartDiseaseorAttack</th>\n",
              "      <th>PhysActivity</th>\n",
              "      <th>Fruits</th>\n",
              "      <th>Veggies</th>\n",
              "      <th>HvyAlcoholConsump</th>\n",
              "      <th>GenHlth</th>\n",
              "      <th>MentHlth</th>\n",
              "      <th>PhysHlth</th>\n",
              "      <th>DiffWalk</th>\n",
              "      <th>Stroke</th>\n",
              "      <th>HighBP</th>\n",
              "      <th>Diabetes</th>\n",
              "    </tr>\n",
              "  </thead>\n",
              "  <tbody>\n",
              "    <tr>\n",
              "      <th>count</th>\n",
              "      <td>64020.000000</td>\n",
              "      <td>64020.000000</td>\n",
              "      <td>64020.000000</td>\n",
              "      <td>64020.000000</td>\n",
              "      <td>64020.000000</td>\n",
              "      <td>64020.000000</td>\n",
              "      <td>64020.000000</td>\n",
              "      <td>64020.000000</td>\n",
              "      <td>64020.000000</td>\n",
              "      <td>64020.000000</td>\n",
              "      <td>64020.000000</td>\n",
              "      <td>64020.000000</td>\n",
              "      <td>64020.000000</td>\n",
              "      <td>64020.000000</td>\n",
              "      <td>64020.000000</td>\n",
              "      <td>64020.000000</td>\n",
              "      <td>64020.000000</td>\n",
              "      <td>64020.000000</td>\n",
              "    </tr>\n",
              "    <tr>\n",
              "      <th>mean</th>\n",
              "      <td>8.607420</td>\n",
              "      <td>0.455983</td>\n",
              "      <td>0.539550</td>\n",
              "      <td>0.973211</td>\n",
              "      <td>30.178554</td>\n",
              "      <td>0.490706</td>\n",
              "      <td>0.159950</td>\n",
              "      <td>0.678366</td>\n",
              "      <td>0.590862</td>\n",
              "      <td>0.771587</td>\n",
              "      <td>0.046345</td>\n",
              "      <td>2.921103</td>\n",
              "      <td>4.130537</td>\n",
              "      <td>6.385020</td>\n",
              "      <td>0.277007</td>\n",
              "      <td>0.068510</td>\n",
              "      <td>0.581756</td>\n",
              "      <td>0.521681</td>\n",
              "    </tr>\n",
              "    <tr>\n",
              "      <th>std</th>\n",
              "      <td>2.860717</td>\n",
              "      <td>0.498063</td>\n",
              "      <td>0.498437</td>\n",
              "      <td>0.161466</td>\n",
              "      <td>7.287730</td>\n",
              "      <td>0.499918</td>\n",
              "      <td>0.366563</td>\n",
              "      <td>0.467107</td>\n",
              "      <td>0.491679</td>\n",
              "      <td>0.419813</td>\n",
              "      <td>0.210233</td>\n",
              "      <td>1.107991</td>\n",
              "      <td>8.466301</td>\n",
              "      <td>10.368493</td>\n",
              "      <td>0.447524</td>\n",
              "      <td>0.252621</td>\n",
              "      <td>0.493275</td>\n",
              "      <td>0.499534</td>\n",
              "    </tr>\n",
              "    <tr>\n",
              "      <th>min</th>\n",
              "      <td>1.000000</td>\n",
              "      <td>0.000000</td>\n",
              "      <td>0.000000</td>\n",
              "      <td>0.000000</td>\n",
              "      <td>12.000000</td>\n",
              "      <td>0.000000</td>\n",
              "      <td>0.000000</td>\n",
              "      <td>0.000000</td>\n",
              "      <td>0.000000</td>\n",
              "      <td>0.000000</td>\n",
              "      <td>0.000000</td>\n",
              "      <td>1.000000</td>\n",
              "      <td>0.000000</td>\n",
              "      <td>0.000000</td>\n",
              "      <td>0.000000</td>\n",
              "      <td>0.000000</td>\n",
              "      <td>0.000000</td>\n",
              "      <td>0.000000</td>\n",
              "    </tr>\n",
              "    <tr>\n",
              "      <th>25%</th>\n",
              "      <td>7.000000</td>\n",
              "      <td>0.000000</td>\n",
              "      <td>0.000000</td>\n",
              "      <td>1.000000</td>\n",
              "      <td>25.000000</td>\n",
              "      <td>0.000000</td>\n",
              "      <td>0.000000</td>\n",
              "      <td>0.000000</td>\n",
              "      <td>0.000000</td>\n",
              "      <td>1.000000</td>\n",
              "      <td>0.000000</td>\n",
              "      <td>2.000000</td>\n",
              "      <td>0.000000</td>\n",
              "      <td>0.000000</td>\n",
              "      <td>0.000000</td>\n",
              "      <td>0.000000</td>\n",
              "      <td>0.000000</td>\n",
              "      <td>0.000000</td>\n",
              "    </tr>\n",
              "    <tr>\n",
              "      <th>50%</th>\n",
              "      <td>9.000000</td>\n",
              "      <td>0.000000</td>\n",
              "      <td>1.000000</td>\n",
              "      <td>1.000000</td>\n",
              "      <td>29.000000</td>\n",
              "      <td>0.000000</td>\n",
              "      <td>0.000000</td>\n",
              "      <td>1.000000</td>\n",
              "      <td>1.000000</td>\n",
              "      <td>1.000000</td>\n",
              "      <td>0.000000</td>\n",
              "      <td>3.000000</td>\n",
              "      <td>0.000000</td>\n",
              "      <td>0.000000</td>\n",
              "      <td>0.000000</td>\n",
              "      <td>0.000000</td>\n",
              "      <td>1.000000</td>\n",
              "      <td>1.000000</td>\n",
              "    </tr>\n",
              "    <tr>\n",
              "      <th>75%</th>\n",
              "      <td>11.000000</td>\n",
              "      <td>1.000000</td>\n",
              "      <td>1.000000</td>\n",
              "      <td>1.000000</td>\n",
              "      <td>34.000000</td>\n",
              "      <td>1.000000</td>\n",
              "      <td>0.000000</td>\n",
              "      <td>1.000000</td>\n",
              "      <td>1.000000</td>\n",
              "      <td>1.000000</td>\n",
              "      <td>0.000000</td>\n",
              "      <td>4.000000</td>\n",
              "      <td>3.000000</td>\n",
              "      <td>7.000000</td>\n",
              "      <td>1.000000</td>\n",
              "      <td>0.000000</td>\n",
              "      <td>1.000000</td>\n",
              "      <td>1.000000</td>\n",
              "    </tr>\n",
              "    <tr>\n",
              "      <th>max</th>\n",
              "      <td>13.000000</td>\n",
              "      <td>1.000000</td>\n",
              "      <td>1.000000</td>\n",
              "      <td>1.000000</td>\n",
              "      <td>98.000000</td>\n",
              "      <td>1.000000</td>\n",
              "      <td>1.000000</td>\n",
              "      <td>1.000000</td>\n",
              "      <td>1.000000</td>\n",
              "      <td>1.000000</td>\n",
              "      <td>1.000000</td>\n",
              "      <td>5.000000</td>\n",
              "      <td>30.000000</td>\n",
              "      <td>30.000000</td>\n",
              "      <td>1.000000</td>\n",
              "      <td>1.000000</td>\n",
              "      <td>1.000000</td>\n",
              "      <td>1.000000</td>\n",
              "    </tr>\n",
              "  </tbody>\n",
              "</table>\n",
              "</div>\n",
              "      <button class=\"colab-df-convert\" onclick=\"convertToInteractive('df-702a405c-a537-4561-b4e4-d67fa5665388')\"\n",
              "              title=\"Convert this dataframe to an interactive table.\"\n",
              "              style=\"display:none;\">\n",
              "        \n",
              "  <svg xmlns=\"http://www.w3.org/2000/svg\" height=\"24px\"viewBox=\"0 0 24 24\"\n",
              "       width=\"24px\">\n",
              "    <path d=\"M0 0h24v24H0V0z\" fill=\"none\"/>\n",
              "    <path d=\"M18.56 5.44l.94 2.06.94-2.06 2.06-.94-2.06-.94-.94-2.06-.94 2.06-2.06.94zm-11 1L8.5 8.5l.94-2.06 2.06-.94-2.06-.94L8.5 2.5l-.94 2.06-2.06.94zm10 10l.94 2.06.94-2.06 2.06-.94-2.06-.94-.94-2.06-.94 2.06-2.06.94z\"/><path d=\"M17.41 7.96l-1.37-1.37c-.4-.4-.92-.59-1.43-.59-.52 0-1.04.2-1.43.59L10.3 9.45l-7.72 7.72c-.78.78-.78 2.05 0 2.83L4 21.41c.39.39.9.59 1.41.59.51 0 1.02-.2 1.41-.59l7.78-7.78 2.81-2.81c.8-.78.8-2.07 0-2.86zM5.41 20L4 18.59l7.72-7.72 1.47 1.35L5.41 20z\"/>\n",
              "  </svg>\n",
              "      </button>\n",
              "      \n",
              "  <style>\n",
              "    .colab-df-container {\n",
              "      display:flex;\n",
              "      flex-wrap:wrap;\n",
              "      gap: 12px;\n",
              "    }\n",
              "\n",
              "    .colab-df-convert {\n",
              "      background-color: #E8F0FE;\n",
              "      border: none;\n",
              "      border-radius: 50%;\n",
              "      cursor: pointer;\n",
              "      display: none;\n",
              "      fill: #1967D2;\n",
              "      height: 32px;\n",
              "      padding: 0 0 0 0;\n",
              "      width: 32px;\n",
              "    }\n",
              "\n",
              "    .colab-df-convert:hover {\n",
              "      background-color: #E2EBFA;\n",
              "      box-shadow: 0px 1px 2px rgba(60, 64, 67, 0.3), 0px 1px 3px 1px rgba(60, 64, 67, 0.15);\n",
              "      fill: #174EA6;\n",
              "    }\n",
              "\n",
              "    [theme=dark] .colab-df-convert {\n",
              "      background-color: #3B4455;\n",
              "      fill: #D2E3FC;\n",
              "    }\n",
              "\n",
              "    [theme=dark] .colab-df-convert:hover {\n",
              "      background-color: #434B5C;\n",
              "      box-shadow: 0px 1px 3px 1px rgba(0, 0, 0, 0.15);\n",
              "      filter: drop-shadow(0px 1px 2px rgba(0, 0, 0, 0.3));\n",
              "      fill: #FFFFFF;\n",
              "    }\n",
              "  </style>\n",
              "\n",
              "      <script>\n",
              "        const buttonEl =\n",
              "          document.querySelector('#df-702a405c-a537-4561-b4e4-d67fa5665388 button.colab-df-convert');\n",
              "        buttonEl.style.display =\n",
              "          google.colab.kernel.accessAllowed ? 'block' : 'none';\n",
              "\n",
              "        async function convertToInteractive(key) {\n",
              "          const element = document.querySelector('#df-702a405c-a537-4561-b4e4-d67fa5665388');\n",
              "          const dataTable =\n",
              "            await google.colab.kernel.invokeFunction('convertToInteractive',\n",
              "                                                     [key], {});\n",
              "          if (!dataTable) return;\n",
              "\n",
              "          const docLinkHtml = 'Like what you see? Visit the ' +\n",
              "            '<a target=\"_blank\" href=https://colab.research.google.com/notebooks/data_table.ipynb>data table notebook</a>'\n",
              "            + ' to learn more about interactive tables.';\n",
              "          element.innerHTML = '';\n",
              "          dataTable['output_type'] = 'display_data';\n",
              "          await google.colab.output.renderOutput(dataTable, element);\n",
              "          const docLink = document.createElement('div');\n",
              "          docLink.innerHTML = docLinkHtml;\n",
              "          element.appendChild(docLink);\n",
              "        }\n",
              "      </script>\n",
              "    </div>\n",
              "  </div>\n",
              "  "
            ]
          },
          "metadata": {},
          "execution_count": 8
        }
      ]
    },
    {
      "cell_type": "markdown",
      "source": [
        "---\n",
        "\n",
        "**Observaciones:** Al verificar las estadisticas para cada columna se observa que los datos estan adecuadamente normalizados. No se requiere ejecutar un proceso adicional sobre los mismos. Asi mismo se observa la no existencia de datos atipicos, ya que las columnas observadas se encuentran dentro de los valores esperados y especificados en el diccionario.\n",
        "\n",
        "---"
      ],
      "metadata": {
        "id": "bv00AZCa35vD"
      }
    },
    {
      "cell_type": "markdown",
      "source": [
        "# Exploracion de datos"
      ],
      "metadata": {
        "id": "2G-iwG3mRaa1"
      }
    },
    {
      "cell_type": "code",
      "source": [
        "#Grafico para visualizar balanceo de los valores en la columna objetivo\n",
        "print('Distribucion del campo objetivo')\n",
        "print(df2['Diabetes'].value_counts())\n",
        "print('\\n')\n",
        "_= sns.countplot(x='Diabetes', data=df2)\n",
        "plt.title('Distribucion de datos en la columna objetivo- Diabetes')\n",
        "plt.xlabel('Diagnostico de diabetes(0= negativo 1 = positivo')"
      ],
      "metadata": {
        "colab": {
          "base_uri": "https://localhost:8080/",
          "height": 416
        },
        "id": "pgVM52G8qZ4B",
        "outputId": "8fe3a218-ce5a-4f13-e5e9-74324f84ae98"
      },
      "execution_count": 9,
      "outputs": [
        {
          "output_type": "stream",
          "name": "stdout",
          "text": [
            "Distribucion del campo objetivo\n",
            "1.0    33398\n",
            "0.0    30622\n",
            "Name: Diabetes, dtype: int64\n",
            "\n",
            "\n"
          ]
        },
        {
          "output_type": "execute_result",
          "data": {
            "text/plain": [
              "Text(0.5, 0, 'Diagnostico de diabetes(0= negativo 1 = positivo')"
            ]
          },
          "metadata": {},
          "execution_count": 9
        },
        {
          "output_type": "display_data",
          "data": {
            "text/plain": [
              "<Figure size 432x288 with 1 Axes>"
            ],
            "image/png": "[encoded data removed]"
          },
          "metadata": {
            "needs_background": "light"
          }
        }
      ]
    },
    {
      "cell_type": "markdown",
      "source": [
        "---\n",
        "\n",
        "**Observaciones:** Se observa una buena distribucion de datos. aprox. 45%/55%\n",
        "\n",
        "---"
      ],
      "metadata": {
        "id": "pfgmDxd4rmne"
      }
    },
    {
      "cell_type": "code",
      "source": [
        "#Historigrama por edades\n",
        "\n",
        "plt.style.use('seaborn')\n",
        "df_age = df2['Age']\n",
        "df_age.hist(bins = 20,\n",
        "            edgecolor = 'black')\n",
        "plt.ticklabel_format(useOffset=False, style='plain')\n",
        "plt.xlabel('Grupo de edades personas en muestra')\n",
        "plt.ylabel('Cantidad de apariciones')\n",
        "plt.title('Cantidad de apariciones por grupo de edades');"
      ],
      "metadata": {
        "colab": {
          "base_uri": "https://localhost:8080/",
          "height": 376
        },
        "id": "DyoM1179Vkg5",
        "outputId": "36a74311-1241-426d-fa5c-8e6b1ad51205"
      },
      "execution_count": 10,
      "outputs": [
        {
          "output_type": "display_data",
          "data": {
            "text/plain": [
              "<Figure size 576x396 with 1 Axes>"
            ],
            "image/png": "[encoded data removed]"
          },
          "metadata": {}
        }
      ]
    },
    {
      "cell_type": "markdown",
      "source": [
        "---\n",
        "\n",
        "**Observaciones:** Se verifica que la mayor cantidad de personas en el set de datos esta agrupada en los rangos de edad 9 y 10 equivalentes a las edades 60-70 anos\n",
        "\n",
        "---"
      ],
      "metadata": {
        "id": "aXvyHltOV-Fv"
      }
    },
    {
      "cell_type": "code",
      "source": [
        "#Historigrama por edades para diabetes positiva\n",
        "filtro = df2['Diabetes']==1.0\n",
        "df_filtro = df2[filtro]\n",
        "plt.style.use('seaborn')\n",
        "df_age = df_filtro['Age']\n",
        "df_age.hist(bins = 20,\n",
        "            edgecolor = 'black')\n",
        "plt.ticklabel_format(useOffset=False, style='plain')\n",
        "plt.xlabel('Grupo de edades personas en muestra')\n",
        "plt.ylabel('Cantidad de apariciones')\n",
        "plt.xticks([1,2,3,4,5,6,7,8,9,10,11,12,13])\n",
        "plt.title('Grupo Edades-Diabetes positiva');"
      ],
      "metadata": {
        "colab": {
          "base_uri": "https://localhost:8080/",
          "height": 376
        },
        "id": "VNrgYKwFTzJP",
        "outputId": "537fc501-11b0-45a9-fff6-b78636a00fe4"
      },
      "execution_count": 21,
      "outputs": [
        {
          "output_type": "display_data",
          "data": {
            "text/plain": [
              "<Figure size 576x396 with 1 Axes>"
            ],
            "image/png": "[encoded data removed]"
          },
          "metadata": {}
        }
      ]
    },
    {
      "cell_type": "markdown",
      "source": [
        "---\n",
        "\n",
        "**Observaciones:** Se verifica que la mayor cantidad de personas en el set de datos esta agrupada en los rangos de edad 9 y 10 equivalentes a las edades 60-70 anos\n",
        "\n",
        "---"
      ],
      "metadata": {
        "id": "I1HkAJ1dV10m"
      }
    },
    {
      "cell_type": "code",
      "source": [
        "#Grafico de pastel para verificacion de la distribucion de los datos partiendo del sexo\n",
        "df2.groupby('Sex').count().plot(kind='pie',y='Age', autopct='%1.0f%%',\n",
        "                                 explode =[0.05,0.05]);\n",
        "plt.title('Agrupacion de datos en la muestra por Sexo');"
      ],
      "metadata": {
        "colab": {
          "base_uri": "https://localhost:8080/",
          "height": 345
        },
        "id": "lqHSaha2WQR2",
        "outputId": "c40e4f2d-a38b-4832-f770-0f190d76374b"
      },
      "execution_count": 12,
      "outputs": [
        {
          "output_type": "display_data",
          "data": {
            "text/plain": [
              "<Figure size 576x396 with 1 Axes>"
            ],
            "image/png": "[encoded data removed]"
          },
          "metadata": {}
        }
      ]
    },
    {
      "cell_type": "markdown",
      "source": [
        "---\n",
        "\n",
        "** Observaciones:** El set de datos presenta que el 54% de las personas en referencia pertenecen al sexo femenino, mientras que el 46% corresponde al sexo masculino\n",
        "\n",
        "---"
      ],
      "metadata": {
        "id": "vpcXn6wurZOp"
      }
    },
    {
      "cell_type": "code",
      "source": [
        "# verificacion de diabetes positiva por genero\n",
        "filtro = df2['Diabetes']==1.0\n",
        "df_filtro = df2[filtro]\n",
        "df_filtro.groupby('Sex').count().plot(kind='pie', y='Age',\n",
        "                                      autopct='%1.0f%%',\n",
        "                                 explode =[0.05,0.05]);\n",
        "plt.title('Agrupacion de datos por sexo para diabetes positiva');"
      ],
      "metadata": {
        "colab": {
          "base_uri": "https://localhost:8080/",
          "height": 345
        },
        "id": "D-pJ21JwjMtd",
        "outputId": "8b73c7d7-5b5d-49ad-889d-2269853d73cd"
      },
      "execution_count": 13,
      "outputs": [
        {
          "output_type": "display_data",
          "data": {
            "text/plain": [
              "<Figure size 576x396 with 1 Axes>"
            ],
            "image/png": "[encoded data removed]"
          },
          "metadata": {}
        }
      ]
    },
    {
      "cell_type": "markdown",
      "source": [
        "---\n",
        "\n",
        "**Observaciones:** Se observa que el 48% de las personas senaladas con diabetes corresponden al sexo masculino, mientras que el 52% corresponde a personas del sexo femenino.\n",
        "\n",
        "---"
      ],
      "metadata": {
        "id": "KKX8AzsTtzHW"
      }
    },
    {
      "cell_type": "markdown",
      "source": [
        "### Creacion de mapa de calor para identificar posibles correlaciones"
      ],
      "metadata": {
        "id": "wyRESklpugnX"
      }
    },
    {
      "cell_type": "code",
      "source": [
        "# se analiza el set de datos, en busca de posibles relaciones entre las distintas caracteristicas\n",
        "# se tomara como parametro inicial una relacion positiva >=3 o una correlacion negativa <=-0.3\n",
        "corr = df2.corr() \n",
        "sns.heatmap(corr[(corr >= 0.3) | (corr <= -0.3)], \n",
        "            cmap='coolwarm', vmax=1.0, vmin=-1.0, linewidths=0.1,\n",
        "            annot=True, annot_kws={\"size\": 8}, square=True);"
      ],
      "metadata": {
        "colab": {
          "base_uri": "https://localhost:8080/",
          "height": 438
        },
        "id": "hzqH3a8oWghy",
        "outputId": "46149e07-67d2-441c-f1a8-3e777a121139"
      },
      "execution_count": 14,
      "outputs": [
        {
          "output_type": "display_data",
          "data": {
            "text/plain": [
              "<Figure size 576x396 with 2 Axes>"
            ],
            "image/png": "[encoded data removed]"
          },
          "metadata": {}
        }
      ]
    },
    {
      "cell_type": "markdown",
      "source": [
        "---\n",
        "\n",
        "**Observaciones:** Los diferentes cuadros de calor indican correlacion entre los renglones de salud, como es de esperarse, la salud general esta influenciada por la salud mental y salud fisica. Las personas que presentan dificultad para caminar impactan en la salud fisica.\n",
        "\n",
        "Tambien se observa que la alta presion alterial esta correlacionada con la edad y el colesterol\n",
        "\n",
        "A traves del mapa de calor no se puede establecer una fuerte correlacion entre la diabetes y otros elementos como la alimentacion, alcoholismo o tabaquismo. Mas alla del valor HighBP(Alta presion alterial) el cual presenta una correlacion moderada con la diabetes asi como la salud general.\n",
        "\n",
        "---"
      ],
      "metadata": {
        "id": "V_um8lHk1JXp"
      }
    },
    {
      "cell_type": "markdown",
      "source": [
        "## Conclusiones exploracion de datos:\n",
        "\n",
        "De los distintos graficos destacados mas arriba podemos interpretar los siguientes resultados:\n",
        "\n",
        "\n",
        "\n",
        "> Indented block\n",
        "\n",
        "*   El set de datos presentado presenta una muestra bien distribuida para un ejercicio de creacion de modelos de apredizaje automatico.\n",
        "*   Existe una mayor incidencia de diabetes en las personas entre edades de 60-70 anos. \n",
        "*   Existe una mayor incidencia de diabetes en las personas de sexo femenino.\n",
        "*   Se observa una posible correlacion entre la diabetes y la alta presion arterial. Asi mismo otros factores de salud estan relacionados directamente, como por ejemplo, la relacion que existe entre la dificultad de subir escaleras con la salud general. La salud general esta relaciionada con la salud fisica y mental.\n",
        "\n",
        "\n",
        "\n",
        "\n",
        "\n"
      ],
      "metadata": {
        "id": "4pW_E41DXQNS"
      }
    },
    {
      "cell_type": "markdown",
      "source": [
        "# Modelado de Datos"
      ],
      "metadata": {
        "id": "xbfbe0CUYkm3"
      }
    },
    {
      "cell_type": "code",
      "source": [
        "#Identificacion de la matriz de caracteristicas y la columna objetivo\n",
        "y=df2['Diabetes']\n",
        "X= df2.drop(columns=['Diabetes'])\n",
        "X_train, X_test, y_train, y_test = train_test_split(X, y, random_state=42)"
      ],
      "metadata": {
        "id": "I2C4F7s72wQi"
      },
      "execution_count": 15,
      "outputs": []
    },
    {
      "cell_type": "code",
      "source": [
        "#Escalamiento de los datos\n",
        "scaler = StandardScaler()\n",
        "X_train = scaler.fit_transform(X_train)\n",
        "X_test = scaler.fit_transform(X_test)"
      ],
      "metadata": {
        "id": "FkKY_iN09o-h"
      },
      "execution_count": 16,
      "outputs": []
    },
    {
      "cell_type": "markdown",
      "source": [
        "### Determinacion de parametros para configuracion de los modelos a implementar\n",
        "\n",
        "\n",
        "> En este bloque estarmos identificando previamente algunos ajustes en los hiperparametros para modelos de arbol de desicion, KNN, bosque aleatorio, con el fin de lograr identificar previamente una configuracion adecuada para la configuracion en ultima instacia de cada modelo.\n",
        "\n"
      ],
      "metadata": {
        "id": "Hi_oQ8w6INQb"
      }
    },
    {
      "cell_type": "code",
      "source": [
        "#Arbol de decision\n",
        "\n",
        "#se crea una funcion para probar todas las profundidades posibles.\n",
        "#Este modelo de funcion fue tomada del ejercicio de Arbol de Regresion y ajustes\n",
        "#de coding Dojo.\n",
        "max_depth_range = list(range(1, 36))# will try every value between 2 and 36\n",
        "# Lista para almacenar la puntuación para cada valor de max_depth:\n",
        "r2 = []\n",
        "for depth in max_depth_range:\n",
        "    dec_tree = DecisionTreeClassifier(max_depth = depth, \n",
        "                             random_state = 42)\n",
        "    dec_tree.fit(X_train, y_train)\n",
        "    score = dec_tree.score(X_test, y_test)\n",
        "    r2.append(score)\n",
        "\n",
        "#visualizar que max_depth lleva una puntuacion R2 mas alta\n",
        "# Visualicen qué max_depth lleva a una puntuación R2 más alta\n",
        "plt.plot(max_depth_range, r2)\n",
        "plt.xlabel('max_depth')\n",
        "plt.ylabel('R2');"
      ],
      "metadata": {
        "id": "SeutU160mR3K",
        "colab": {
          "base_uri": "https://localhost:8080/",
          "height": 361
        },
        "outputId": "9a2b9c62-6c0b-4cb6-8abb-1a81dd65d538"
      },
      "execution_count": 17,
      "outputs": [
        {
          "output_type": "display_data",
          "data": {
            "text/plain": [
              "<Figure size 576x396 with 1 Axes>"
            ],
            "image/png": "[encoded data removed]"
          },
          "metadata": {}
        }
      ]
    },
    {
      "cell_type": "markdown",
      "source": [
        "---\n",
        "\n",
        "**Configuracion propuesta:** Para el arbol de decision el maximo rendimiento esta en 8 y 9. Por lo que utilizaremos esta configuracion en el modelo.\n",
        "\n",
        "---"
      ],
      "metadata": {
        "id": "R9AZl2NdIcRp"
      }
    },
    {
      "cell_type": "code",
      "source": [
        "#KN Vecinos\n",
        "#se crea una funcion para probar todas las profundidades posibles.\n",
        "#Este modelo de funcion fue tomada del ejercicio de Arbol de Regresion y ajustes\n",
        "#de coding Dojo.\n",
        "n_vecinos = list(range(1, 10))\n",
        "r2 = []\n",
        "for vecino in n_vecinos:\n",
        "    knn = KNeighborsClassifier(n_neighbors=vecino)\n",
        "    knn.fit(X_train,y_train)\n",
        "    predictions = knn.predict(X_test)\n",
        "    score = knn.score(X_test, y_test)\n",
        "    r2.append(score)\n",
        "\n",
        "#Visualizar datos\n",
        "plt.plot(n_vecinos, r2)\n",
        "plt.xlabel('vecinos')\n",
        "plt.ylabel('R2');"
      ],
      "metadata": {
        "id": "qFUHvLEwqcNI",
        "colab": {
          "base_uri": "https://localhost:8080/",
          "height": 361
        },
        "outputId": "6cf3c8f5-fcd9-409a-b7bf-a70cd36cc96b"
      },
      "execution_count": 18,
      "outputs": [
        {
          "output_type": "display_data",
          "data": {
            "text/plain": [
              "<Figure size 576x396 with 1 Axes>"
            ],
            "image/png": "[encoded data removed]"
          },
          "metadata": {}
        }
      ]
    },
    {
      "cell_type": "markdown",
      "source": [
        "**Configuracion propuesta:** Se pretendera configurar el KNN con un numero de 9 u 11 vecinos"
      ],
      "metadata": {
        "id": "DZovfR8ILHm_"
      }
    },
    {
      "cell_type": "code",
      "source": [
        "# configuracion para Random Forest\n",
        "max_n_estimators= list(range(1, 60,10))\n",
        "\n",
        "r2 = []\n",
        "for estimator in max_n_estimators:\n",
        "    rf = RandomForestClassifier(n_estimators = estimator, max_depth= estimator,\n",
        "                             random_state = 42)\n",
        "    rf.fit(X_train, y_train)\n",
        "    score = rf.score(X_test, y_test)\n",
        "    r2.append(score)\n",
        "\n",
        "#visualizar los datos\n",
        "plt.plot(max_n_estimators, r2)\n",
        "plt.xlabel('max_estimators')\n",
        "plt.ylabel('R2');"
      ],
      "metadata": {
        "colab": {
          "base_uri": "https://localhost:8080/",
          "height": 365
        },
        "id": "N2wGbLhpLVa6",
        "outputId": "a13be353-59a7-4539-b341-2898588ade53"
      },
      "execution_count": 19,
      "outputs": [
        {
          "output_type": "display_data",
          "data": {
            "text/plain": [
              "<Figure size 576x396 with 1 Axes>"
            ],
            "image/png": "[encoded data removed]"
          },
          "metadata": {}
        }
      ]
    },
    {
      "cell_type": "markdown",
      "source": [
        "---\n",
        "\n",
        "**Configuracion propuesta:** Se utilizara estimadores 11 y max_depth de 11\n",
        "\n",
        "---"
      ],
      "metadata": {
        "id": "6hxbeY-lLwMU"
      }
    },
    {
      "cell_type": "markdown",
      "source": [
        "## Desarrollo de los modelos"
      ],
      "metadata": {
        "id": "vWw7L-5daviX"
      }
    },
    {
      "cell_type": "code",
      "source": [
        "#desarrollo de los modelos\n",
        "#esta extracto de codigo proviene de https://www.kaggle.com/code/prasadshingare/diabetes-hypertension-and-stroke-prediction/notebook\n",
        "# se establecen configuraciones propuestas en el modulo anterior a fin de obtener resultados optimos\n",
        "\n",
        "models={\n",
        "    \"Logisitic Regression\" :LogisticRegression(random_state=42),\n",
        "    \"Decision Tree\" :DecisionTreeClassifier(max_depth=8,random_state=42),\n",
        "    \"Random Forest\":RandomForestClassifier(n_estimators=11, max_depth=11, random_state=42),\n",
        "    \"K-Nearest Neighbors\": KNeighborsClassifier(n_neighbors=11),\n",
        "}\n",
        "\n",
        "for i in range(len(list(models))):\n",
        "    model = list(models.values())[i]\n",
        "    model.fit(X_train,y_train) # Entrenando el modelo\n",
        "    # realizando la prediccion\n",
        "    y_train_pred = model.predict(X_train)\n",
        "    y_test_pred =  model.predict(X_test)\n",
        "\n",
        "  # Desempeno del conjunto de prueba\n",
        "    model_test_accuracy = accuracy_score(y_test, y_test_pred) \n",
        "    model_test_f1 = f1_score(y_test, y_test_pred, average='weighted') \n",
        "    model_test_precision = precision_score(y_test, y_test_pred , average='weighted') \n",
        "    model_test_recall  = recall_score(y_test, y_test_pred,average='weighted') \n",
        "\n",
        "  # Desempeno del conjunto de entrenamiento\n",
        "    model_train_accuracy = accuracy_score(y_train, y_train_pred) \n",
        "    model_train_f1 = f1_score(y_train, y_train_pred, average= 'weighted') \n",
        "    model_train_precision = precision_score(y_train, y_train_pred,average='weighted') \n",
        "    model_train_recall = recall_score(y_train, y_train_pred,average='weighted') \n",
        "\n",
        "    print(list(models.keys())[i])\n",
        "\n",
        "    print('Desempeno del modelo con datos de entrenamiento (Diabetes)')\n",
        "    print(\"- Accuracy: {:.4f}\".format(model_train_accuracy))\n",
        "    print('- F1 score: {:4f}'.format(model_train_f1))\n",
        "    print('- Precision: {:4f}'.format(model_train_precision))\n",
        "    print('- Recall: {:4f}'.format(model_train_recall))\n",
        "\n",
        "    print('----------------------------------')\n",
        "\n",
        "    print('Desempeno del modelo con datos de prueba (Diabetes)')\n",
        "    print('- Accuracy: {:.4f}'.format(model_test_accuracy) )\n",
        "    print('- Fl score: {:.4f}'.format(model_test_f1))\n",
        "    print('- Precision: {:.4f}'.format(model_test_precision))\n",
        "    print('- Recall: {:.4f}'.format(model_test_recall))\n",
        "\n",
        "\n",
        "    print('='*35)\n",
        "    print('\\n')"
      ],
      "metadata": {
        "colab": {
          "base_uri": "https://localhost:8080/"
        },
        "id": "642aHmPi9-fU",
        "outputId": "a881f86c-931d-41e4-a4b1-7ffcadd2e128"
      },
      "execution_count": 20,
      "outputs": [
        {
          "output_type": "stream",
          "name": "stdout",
          "text": [
            "Logisitic Regression\n",
            "Desempeno del modelo con datos de entrenamiento (Diabetes)\n",
            "- Accuracy: 0.7361\n",
            "- F1 score: 0.735520\n",
            "- Precision: 0.736224\n",
            "- Recall: 0.736062\n",
            "----------------------------------\n",
            "Desempeno del modelo con datos de prueba (Diabetes)\n",
            "- Accuracy: 0.7376\n",
            "- Fl score: 0.7373\n",
            "- Precision: 0.7375\n",
            "- Recall: 0.7376\n",
            "===================================\n",
            "\n",
            "\n",
            "Decision Tree\n",
            "Desempeno del modelo con datos de entrenamiento (Diabetes)\n",
            "- Accuracy: 0.7392\n",
            "- F1 score: 0.737779\n",
            "- Precision: 0.741156\n",
            "- Recall: 0.739248\n",
            "----------------------------------\n",
            "Desempeno del modelo con datos de prueba (Diabetes)\n",
            "- Accuracy: 0.7310\n",
            "- Fl score: 0.7295\n",
            "- Precision: 0.7324\n",
            "- Recall: 0.7310\n",
            "===================================\n",
            "\n",
            "\n",
            "Random Forest\n",
            "Desempeno del modelo con datos de entrenamiento (Diabetes)\n",
            "- Accuracy: 0.7687\n",
            "- F1 score: 0.767477\n",
            "- Precision: 0.770893\n",
            "- Recall: 0.768697\n",
            "----------------------------------\n",
            "Desempeno del modelo con datos de prueba (Diabetes)\n",
            "- Accuracy: 0.7370\n",
            "- Fl score: 0.7357\n",
            "- Precision: 0.7382\n",
            "- Recall: 0.7370\n",
            "===================================\n",
            "\n",
            "\n",
            "K-Nearest Neighbors\n",
            "Desempeno del modelo con datos de entrenamiento (Diabetes)\n",
            "- Accuracy: 0.7612\n",
            "- F1 score: 0.760170\n",
            "- Precision: 0.762603\n",
            "- Recall: 0.761179\n",
            "----------------------------------\n",
            "Desempeno del modelo con datos de prueba (Diabetes)\n",
            "- Accuracy: 0.7104\n",
            "- Fl score: 0.7093\n",
            "- Precision: 0.7107\n",
            "- Recall: 0.7104\n",
            "===================================\n",
            "\n",
            "\n"
          ]
        }
      ]
    },
    {
      "cell_type": "markdown",
      "source": [
        "## **Conclusion-Seleccion de modelo** \n",
        "Al comparar el rendimiento de los distintos modelos antes configurados se observa un rendimiento similar, no obstante para fines de este ejercicio estaremos seleccionado el algoritmo de **Bosque Aleatorio** ya que el mismo presenta facilidades de configuracion que otros modelos no disponen, por lo que en un futuro es posible, que al modificar otras configuraciones podamos alcanzar un rendimiento superior al presentado que es de 0.74"
      ],
      "metadata": {
        "id": "Yq1GH9cL9ddR"
      }
    }
  ]
}